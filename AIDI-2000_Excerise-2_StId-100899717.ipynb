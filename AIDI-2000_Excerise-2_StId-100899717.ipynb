{
 "cells": [
  {
   "cell_type": "markdown",
   "id": "1adbb432",
   "metadata": {},
   "source": [
    "# AIDI-2000  Exercise-2 (CNN model on MNIST Dataset)"
   ]
  },
  {
   "cell_type": "markdown",
   "id": "40a53afe",
   "metadata": {},
   "source": [
    "Student Id - 100899717\n",
    "Student Name - Naman Pathak"
   ]
  },
  {
   "cell_type": "raw",
   "id": "ed417ef4",
   "metadata": {},
   "source": []
  },
  {
   "cell_type": "markdown",
   "id": "a6e66a2a",
   "metadata": {},
   "source": [
    "# Stage-1 Data Loading, Cleaning and Preprocessing"
   ]
  },
  {
   "cell_type": "markdown",
   "id": "49d5d313",
   "metadata": {},
   "source": [
    "First, we need to import the required libraries and load the MNIST dataset. We will be using the TensorFlow library for building and training our CNN model."
   ]
  },
  {
   "cell_type": "code",
   "execution_count": 6,
   "id": "448c0c02",
   "metadata": {},
   "outputs": [
    {
     "data": {
      "image/png": "[encoded data removed]",
      "text/plain": [
       "<Figure size 640x480 with 1 Axes>"
      ]
     },
     "metadata": {},
     "output_type": "display_data"
    }
   ],
   "source": [
    "import tensorflow as tf\n",
    "import matplotlib.pyplot as plt\n",
    "from tensorflow.keras.datasets import mnist\n",
    "from tensorflow.keras.utils import to_categorical\n",
    "\n",
    "# Load the MNIST dataset\n",
    "(x_train, y_train), (x_test, y_test) = mnist.load_data()\n",
    "\n",
    "# Preprocess the data\n",
    "x_train = x_train.reshape(-1, 28, 28, 1) / 255.0\n",
    "x_test = x_test.reshape(-1, 28, 28, 1) / 255.0\n",
    "y_train = to_categorical(y_train)\n",
    "y_test = to_categorical(y_test)\n",
    "\n",
    "# Select a random sample from the training dataset\n",
    "sample_index = 0  # Change this value to visualize different samples\n",
    "sample_image = x_train[sample_index]\n",
    "sample_label = y_train[sample_index]\n",
    "\n",
    "# Reshape the image to 2D\n",
    "sample_image = sample_image.reshape(28, 28)\n",
    "\n",
    "# Plot the image\n",
    "plt.imshow(sample_image, cmap='gray')\n",
    "plt.title(f\"Label: {sample_label}\")\n",
    "plt.axis('off')\n",
    "plt.show()"
   ]
  },
  {
   "cell_type": "markdown",
   "id": "179bb63e",
   "metadata": {},
   "source": [
    "In this code, we import the necessary TensorFlow modules and load the MNIST dataset using mnist.load_data(). The dataset is divided into training and testing sets, consisting of images and corresponding labels.\n",
    "\n",
    "Next, we preprocess the data by reshaping the images to have a single channel and normalizing the pixel values between 0 and 1.\n",
    "\n",
    "Next, we select a random sample from the training dataset by setting the value of sample_index. The corresponding image and label are extracted from the x_train and y_train arrays.\n",
    "\n",
    "The image is reshaped from a 3D array to a 2D array using reshape(28, 28) to match the original dimensions of the MNIST images.\n",
    "\n",
    "Finally, we use plt.imshow() to display the image with a grayscale colormap (cmap='gray'). We set the title of the plot to show the corresponding label, and plt.axis('off') is used to hide the axes."
   ]
  },
  {
   "cell_type": "markdown",
   "id": "131a9285",
   "metadata": {},
   "source": [
    "# Stage-2 Model Architecture"
   ]
  },
  {
   "cell_type": "markdown",
   "id": "a9499bb6",
   "metadata": {},
   "source": [
    "Now, we'll define the architecture of our CNN model. This will include convolutional layers, pooling layers, and fully connected layers."
   ]
  },
  {
   "cell_type": "code",
   "execution_count": 2,
   "id": "002344e2",
   "metadata": {},
   "outputs": [
    {
     "name": "stdout",
     "output_type": "stream",
     "text": [
      "Model: \"sequential\"\n",
      "_________________________________________________________________\n",
      " Layer (type)                Output Shape              Param #   \n",
      "=================================================================\n",
      " conv2d (Conv2D)             (None, 26, 26, 32)        320       \n",
      "                                                                 \n",
      " max_pooling2d (MaxPooling2D  (None, 13, 13, 32)       0         \n",
      " )                                                               \n",
      "                                                                 \n",
      " conv2d_1 (Conv2D)           (None, 11, 11, 64)        18496     \n",
      "                                                                 \n",
      " max_pooling2d_1 (MaxPooling  (None, 5, 5, 64)         0         \n",
      " 2D)                                                             \n",
      "                                                                 \n",
      " flatten (Flatten)           (None, 1600)              0         \n",
      "                                                                 \n",
      " dense (Dense)               (None, 64)                102464    \n",
      "                                                                 \n",
      " dense_1 (Dense)             (None, 10)                650       \n",
      "                                                                 \n",
      "=================================================================\n",
      "Total params: 121,930\n",
      "Trainable params: 121,930\n",
      "Non-trainable params: 0\n",
      "_________________________________________________________________\n"
     ]
    }
   ],
   "source": [
    "model = tf.keras.models.Sequential([\n",
    "    tf.keras.layers.Conv2D(32, (3, 3), activation='relu', input_shape=(28, 28, 1)),\n",
    "    tf.keras.layers.MaxPooling2D((2, 2)),\n",
    "    tf.keras.layers.Conv2D(64, (3, 3), activation='relu'),\n",
    "    tf.keras.layers.MaxPooling2D((2, 2)),\n",
    "    tf.keras.layers.Flatten(),\n",
    "    tf.keras.layers.Dense(64, activation='relu'),\n",
    "    tf.keras.layers.Dense(10, activation='softmax')\n",
    "])\n",
    "\n",
    "model.summary()"
   ]
  },
  {
   "cell_type": "markdown",
   "id": "5ffc2e7c",
   "metadata": {},
   "source": [
    "Here, we use the Sequential class from Keras to create a sequential model. We add layers to the model using the add() method.\n",
    "\n",
    "In this example, we have two convolutional layers with ReLU activation functions, followed by max pooling layers to downsample the feature maps. Then, we flatten the feature maps and add two fully connected layers. The final layer has 10 units with a softmax activation function, representing the probabilities for each digit class."
   ]
  },
  {
   "cell_type": "markdown",
   "id": "8ef48db8",
   "metadata": {},
   "source": [
    "# Stage-3 Model Compilation and Training"
   ]
  },
  {
   "cell_type": "markdown",
   "id": "20384677",
   "metadata": {},
   "source": [
    "Next, we'll compile and train our model using the training data."
   ]
  },
  {
   "cell_type": "code",
   "execution_count": 3,
   "id": "6ca89083",
   "metadata": {},
   "outputs": [
    {
     "name": "stdout",
     "output_type": "stream",
     "text": [
      "Epoch 1/10\n",
      "469/469 [==============================] - 48s 101ms/step - loss: 0.2369 - accuracy: 0.9294 - val_loss: 0.0654 - val_accuracy: 0.9797\n",
      "Epoch 2/10\n",
      "469/469 [==============================] - 47s 101ms/step - loss: 0.0618 - accuracy: 0.9809 - val_loss: 0.0515 - val_accuracy: 0.9835\n",
      "Epoch 3/10\n",
      "469/469 [==============================] - 46s 98ms/step - loss: 0.0428 - accuracy: 0.9869 - val_loss: 0.0430 - val_accuracy: 0.9857\n",
      "Epoch 4/10\n",
      "469/469 [==============================] - 46s 98ms/step - loss: 0.0341 - accuracy: 0.9894 - val_loss: 0.0406 - val_accuracy: 0.9866\n",
      "Epoch 5/10\n",
      "469/469 [==============================] - 47s 99ms/step - loss: 0.0275 - accuracy: 0.9915 - val_loss: 0.0378 - val_accuracy: 0.9864\n",
      "Epoch 6/10\n",
      "469/469 [==============================] - 48s 103ms/step - loss: 0.0219 - accuracy: 0.9930 - val_loss: 0.0336 - val_accuracy: 0.9895\n",
      "Epoch 7/10\n",
      "469/469 [==============================] - 47s 100ms/step - loss: 0.0177 - accuracy: 0.9948 - val_loss: 0.0353 - val_accuracy: 0.9891\n",
      "Epoch 8/10\n",
      "469/469 [==============================] - 47s 100ms/step - loss: 0.0161 - accuracy: 0.9948 - val_loss: 0.0342 - val_accuracy: 0.9877\n",
      "Epoch 9/10\n",
      "469/469 [==============================] - 45s 95ms/step - loss: 0.0131 - accuracy: 0.9956 - val_loss: 0.0423 - val_accuracy: 0.9875\n",
      "Epoch 10/10\n",
      "469/469 [==============================] - 45s 96ms/step - loss: 0.0089 - accuracy: 0.9973 - val_loss: 0.0334 - val_accuracy: 0.9899\n"
     ]
    },
    {
     "data": {
      "text/plain": [
       "<keras.callbacks.History at 0x2c34b89b040>"
      ]
     },
     "execution_count": 3,
     "metadata": {},
     "output_type": "execute_result"
    }
   ],
   "source": [
    "model.compile(optimizer='adam', loss='categorical_crossentropy', metrics=['accuracy'])\n",
    "\n",
    "model.fit(x_train, y_train, batch_size=128, epochs=10, validation_data=(x_test, y_test))"
   ]
  },
  {
   "cell_type": "markdown",
   "id": "55cd7e0e",
   "metadata": {},
   "source": [
    "In this code, we use the compile() method to configure the model for training. We specify the optimizer (Adam), loss function (categorical cross-entropy), and metrics (accuracy) to be used during training.\n",
    "\n",
    "We then use the fit() method to train the model on the training data. We set the batch size to 128 and train for 10 epochs. The validation data is provided to evaluate the model's performance after each epoch."
   ]
  },
  {
   "cell_type": "markdown",
   "id": "ff333b9b",
   "metadata": {},
   "source": [
    "# Stage-4 Model Evaluation and Testing"
   ]
  },
  {
   "cell_type": "markdown",
   "id": "096ac332",
   "metadata": {},
   "source": [
    "After training, we can evaluate the performance of our model using the testing data."
   ]
  },
  {
   "cell_type": "code",
   "execution_count": 4,
   "id": "86f6f498",
   "metadata": {},
   "outputs": [
    {
     "name": "stdout",
     "output_type": "stream",
     "text": [
      "313/313 [==============================] - 3s 9ms/step - loss: 0.0334 - accuracy: 0.9899\n",
      "Test loss: 0.0334\n",
      "Test accuracy: 0.9899\n"
     ]
    }
   ],
   "source": [
    "loss, accuracy = model.evaluate(x_test, y_test)\n",
    "print(f'Test loss: {loss:.4f}')\n",
    "print(f'Test accuracy: {accuracy:.4f}')"
   ]
  },
  {
   "cell_type": "markdown",
   "id": "d849d6fc",
   "metadata": {},
   "source": [
    "In this code, we use the evaluate() method to calculate the loss and accuracy of the trained model on the testing data. The results are then printed."
   ]
  },
  {
   "cell_type": "markdown",
   "id": "969a570b",
   "metadata": {},
   "source": [
    "# Stage-5 Performance Indicators"
   ]
  },
  {
   "cell_type": "markdown",
   "id": "2e6fe8c4",
   "metadata": {},
   "source": [
    "To further analyze the performance of our model, we can calculate additional metrics such as precision, recall, and F1-score."
   ]
  },
  {
   "cell_type": "code",
   "execution_count": 5,
   "id": "1bd7e19c",
   "metadata": {},
   "outputs": [
    {
     "name": "stdout",
     "output_type": "stream",
     "text": [
      "313/313 [==============================] - 3s 8ms/step\n",
      "              precision    recall  f1-score   support\n",
      "\n",
      "           0       0.99      0.99      0.99       980\n",
      "           1       0.99      0.99      0.99      1135\n",
      "           2       0.98      0.99      0.99      1032\n",
      "           3       1.00      0.98      0.99      1010\n",
      "           4       0.99      0.99      0.99       982\n",
      "           5       0.99      0.99      0.99       892\n",
      "           6       0.99      0.99      0.99       958\n",
      "           7       0.98      1.00      0.99      1028\n",
      "           8       0.99      0.99      0.99       974\n",
      "           9       1.00      0.98      0.99      1009\n",
      "\n",
      "    accuracy                           0.99     10000\n",
      "   macro avg       0.99      0.99      0.99     10000\n",
      "weighted avg       0.99      0.99      0.99     10000\n",
      "\n"
     ]
    }
   ],
   "source": [
    "from sklearn.metrics import classification_report\n",
    "\n",
    "# Get predictions\n",
    "y_pred = model.predict(x_test)\n",
    "y_pred = tf.argmax(y_pred, axis=1)\n",
    "y_true = tf.argmax(y_test, axis=1)\n",
    "\n",
    "# Calculate metrics\n",
    "print(classification_report(y_true, y_pred))"
   ]
  },
  {
   "cell_type": "markdown",
   "id": "be896786",
   "metadata": {},
   "source": [
    "Here, we use the classification_report() function from scikit-learn to calculate precision, recall, F1-score, and support for each digit class. We compare the predicted labels (y_pred) with the true labels (y_true) to obtain the metrics."
   ]
  }
 ],
 "metadata": {
  "kernelspec": {
   "display_name": "Python 3 (ipykernel)",
   "language": "python",
   "name": "python3"
  },
  "language_info": {
   "codemirror_mode": {
    "name": "ipython",
    "version": 3
   },
   "file_extension": ".py",
   "mimetype": "text/x-python",
   "name": "python",
   "nbconvert_exporter": "python",
   "pygments_lexer": "ipython3",
   "version": "3.9.13"
  }
 },
 "nbformat": 4,
 "nbformat_minor": 5
}
