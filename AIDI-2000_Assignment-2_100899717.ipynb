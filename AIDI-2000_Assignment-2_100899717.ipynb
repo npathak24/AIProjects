{
 "cells": [
  {
   "cell_type": "markdown",
   "id": "8dec6639",
   "metadata": {},
   "source": [
    "# Assignment-2 Designing a CNN Model for Mask Detection"
   ]
  },
  {
   "cell_type": "markdown",
   "id": "9e27bed9",
   "metadata": {},
   "source": [
    "Student Name - Naman Pathak"
   ]
  },
  {
   "cell_type": "markdown",
   "id": "072d2196",
   "metadata": {},
   "source": [
    "Student Id - 100899717"
   ]
  },
  {
   "cell_type": "markdown",
   "id": "9d2f3347",
   "metadata": {},
   "source": [
    "In this report, we will show the design and development of a CNN model for differentiating people with a mask or without a mask using TensorFlow and Keras by different stages"
   ]
  },
  {
   "cell_type": "markdown",
   "id": "4c04a7b0",
   "metadata": {},
   "source": [
    "# 1. Import Libraries"
   ]
  },
  {
   "cell_type": "markdown",
   "id": "e4f0f322",
   "metadata": {},
   "source": [
    "First, let's import the required libraries:"
   ]
  },
  {
   "cell_type": "code",
   "execution_count": 1,
   "id": "717e3c4c",
   "metadata": {},
   "outputs": [],
   "source": [
    "import os\n",
    "import numpy as np\n",
    "from PIL import Image\n",
    "from sklearn.model_selection import train_test_split\n",
    "from sklearn.preprocessing import LabelEncoder\n",
    "from keras.models import Sequential\n",
    "from keras.layers import Conv2D, MaxPooling2D, Flatten, Dense\n",
    "from keras.utils import to_categorical"
   ]
  },
  {
   "cell_type": "markdown",
   "id": "2ad2f9a0",
   "metadata": {},
   "source": [
    "# 2. Data Loading and Pre-Processing"
   ]
  },
  {
   "cell_type": "markdown",
   "id": "9974267a",
   "metadata": {},
   "source": [
    "Next, we'll load and preprocess the data. Since the dataset is quite large, we'll take a subset of the data to speed up the processing."
   ]
  },
  {
   "cell_type": "markdown",
   "id": "a2e46690",
   "metadata": {},
   "source": [
    "We iterate through the \"with_mask\" and \"without_mask\" folders separately, load the images, and append the corresponding labels. The labels are encoded using LabelEncoder(), and the data is split into training and testing sets. "
   ]
  },
  {
   "cell_type": "code",
   "execution_count": 3,
   "id": "4da1b142",
   "metadata": {},
   "outputs": [],
   "source": [
    "\n",
    "# Set the path to the dataset folder\n",
    "dataset_path = r'C:\\Users\\naman\\Downloads\\Dataset\\Dataset'\n",
    "\n",
    "# Initialize lists to store images and labels\n",
    "images = []\n",
    "labels = []\n",
    "\n",
    "# Set the desired subset size\n",
    "subset_size = 1000\n",
    "\n",
    "# Iterate through the dataset folders for \"with_mask\" and \"without_mask\"\n",
    "for label in ['with_mask', 'without_mask']:\n",
    "    label_path = os.path.join(dataset_path, label)\n",
    "    # Iterate through the image files in the label folder\n",
    "    for file_name in os.listdir(label_path)[:subset_size]:\n",
    "        file_path = os.path.join(label_path, file_name)\n",
    "        # Load the image\n",
    "        image = Image.open(file_path)\n",
    "        # Resize the image to a fixed size (e.g., 128x128 pixels)\n",
    "        image = image.resize((128, 128))\n",
    "        # Convert the image to an array and normalize pixel values\n",
    "        image = np.array(image) / 255.0\n",
    "        # Append the image to the list\n",
    "        images.append(image)\n",
    "        # Append the corresponding label to the list\n",
    "        labels.append(label)\n",
    "\n",
    "# Convert the image and label lists to NumPy arrays\n",
    "images = np.array(images)\n",
    "labels = np.array(labels)\n",
    "\n",
    "# Perform label encoding\n",
    "label_encoder = LabelEncoder()\n",
    "labels = label_encoder.fit_transform(labels)\n",
    "\n",
    "# Split the data into training and testing sets\n",
    "X_train, X_test, y_train, y_test = train_test_split(images, labels, test_size=0.2, random_state=42)\n",
    "\n",
    "# Convert the labels to categorical form\n",
    "y_train = to_categorical(y_train)\n",
    "y_test = to_categorical(y_test)"
   ]
  },
  {
   "cell_type": "markdown",
   "id": "58bb064d",
   "metadata": {},
   "source": [
    "In the above code, the to_categorical() function is applied if labels are not already in categorical format."
   ]
  },
  {
   "cell_type": "markdown",
   "id": "737b3df2",
   "metadata": {},
   "source": [
    "# 3. Training and Model Compilation"
   ]
  },
  {
   "cell_type": "markdown",
   "id": "8f0e8357",
   "metadata": {},
   "source": [
    "Now, let's define and train the CNN model using Keras."
   ]
  },
  {
   "cell_type": "code",
   "execution_count": 4,
   "id": "1c6e7084",
   "metadata": {},
   "outputs": [
    {
     "name": "stdout",
     "output_type": "stream",
     "text": [
      "Epoch 1/10\n",
      "50/50 [==============================] - 40s 744ms/step - loss: 0.3753 - accuracy: 0.8737 - val_loss: 0.1158 - val_accuracy: 0.9525\n",
      "Epoch 2/10\n",
      "50/50 [==============================] - 36s 729ms/step - loss: 0.0926 - accuracy: 0.9663 - val_loss: 0.1070 - val_accuracy: 0.9575\n",
      "Epoch 3/10\n",
      "50/50 [==============================] - 37s 738ms/step - loss: 0.0553 - accuracy: 0.9825 - val_loss: 0.0816 - val_accuracy: 0.9575\n",
      "Epoch 4/10\n",
      "50/50 [==============================] - 37s 734ms/step - loss: 0.0325 - accuracy: 0.9894 - val_loss: 0.1004 - val_accuracy: 0.9650\n",
      "Epoch 5/10\n",
      "50/50 [==============================] - 38s 755ms/step - loss: 0.0404 - accuracy: 0.9844 - val_loss: 0.1063 - val_accuracy: 0.9650\n",
      "Epoch 6/10\n",
      "50/50 [==============================] - 39s 783ms/step - loss: 0.0104 - accuracy: 0.9981 - val_loss: 0.1324 - val_accuracy: 0.9675\n",
      "Epoch 7/10\n",
      "50/50 [==============================] - 37s 750ms/step - loss: 0.0055 - accuracy: 0.9987 - val_loss: 0.1275 - val_accuracy: 0.9650\n",
      "Epoch 8/10\n",
      "50/50 [==============================] - 37s 733ms/step - loss: 0.0026 - accuracy: 1.0000 - val_loss: 0.1122 - val_accuracy: 0.9675\n",
      "Epoch 9/10\n",
      "50/50 [==============================] - 37s 734ms/step - loss: 8.2084e-04 - accuracy: 1.0000 - val_loss: 0.1179 - val_accuracy: 0.9675\n",
      "Epoch 10/10\n",
      "50/50 [==============================] - 37s 736ms/step - loss: 3.9610e-04 - accuracy: 1.0000 - val_loss: 0.1288 - val_accuracy: 0.9675\n"
     ]
    },
    {
     "data": {
      "text/plain": [
       "<keras.callbacks.History at 0x21ad2530ca0>"
      ]
     },
     "execution_count": 4,
     "metadata": {},
     "output_type": "execute_result"
    }
   ],
   "source": [
    "# Define the CNN model architecture\n",
    "model = Sequential()\n",
    "model.add(Conv2D(32, kernel_size=(3, 3), activation='relu', input_shape=(128, 128, 3)))\n",
    "model.add(MaxPooling2D(pool_size=(2, 2)))\n",
    "model.add(Conv2D(64, kernel_size=(3, 3), activation='relu'))\n",
    "model.add(MaxPooling2D(pool_size=(2, 2)))\n",
    "model.add(Flatten())\n",
    "model.add(Dense(128, activation='relu'))\n",
    "model.add(Dense(2, activation='softmax'))\n",
    "\n",
    "# Compile the model\n",
    "model.compile(optimizer='adam', loss='categorical_crossentropy', metrics=['accuracy'])\n",
    "\n",
    "# Train the model\n",
    "model.fit(X_train, y_train, batch_size=32, epochs=10, validation_data=(X_test, y_test))"
   ]
  },
  {
   "cell_type": "markdown",
   "id": "d1f53fcc",
   "metadata": {},
   "source": [
    "# 4. Evaluate the Model"
   ]
  },
  {
   "cell_type": "markdown",
   "id": "a6b325e5",
   "metadata": {},
   "source": [
    "Once the model is trained, we can evaluate its performance on the testing set and calculate performance indicators."
   ]
  },
  {
   "cell_type": "code",
   "execution_count": 5,
   "id": "0ff63a4c",
   "metadata": {},
   "outputs": [
    {
     "name": "stdout",
     "output_type": "stream",
     "text": [
      "13/13 [==============================] - 3s 193ms/step - loss: 0.1288 - accuracy: 0.9675\n",
      "Test Loss: 0.1288\n",
      "Test Accuracy: 0.9675\n"
     ]
    }
   ],
   "source": [
    "# Evaluate the model on the testing set\n",
    "loss, accuracy = model.evaluate(X_test, y_test)\n",
    "\n",
    "print(f\"Test Loss: {loss:.4f}\")\n",
    "print(f\"Test Accuracy: {accuracy:.4f}\")"
   ]
  },
  {
   "cell_type": "markdown",
   "id": "5bed9dee",
   "metadata": {},
   "source": [
    "# Conclusion"
   ]
  },
  {
   "cell_type": "markdown",
   "id": "ab29255b",
   "metadata": {},
   "source": [
    "In this report, we designed and developed a CNN model using TensorFlow/Keras to differentiate between people wearing masks and those without masks. We utilized the subset of data for efficient data loading and augmentation.. The provided code covers data loading, cleaning, model training, and evaluation stages. "
   ]
  }
 ],
 "metadata": {
  "kernelspec": {
   "display_name": "Python 3 (ipykernel)",
   "language": "python",
   "name": "python3"
  },
  "language_info": {
   "codemirror_mode": {
    "name": "ipython",
    "version": 3
   },
   "file_extension": ".py",
   "mimetype": "text/x-python",
   "name": "python",
   "nbconvert_exporter": "python",
   "pygments_lexer": "ipython3",
   "version": "3.9.13"
  }
 },
 "nbformat": 4,
 "nbformat_minor": 5
}
